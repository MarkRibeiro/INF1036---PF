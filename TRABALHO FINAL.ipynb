{
 "cells": [
  {
   "cell_type": "markdown",
   "metadata": {},
   "source": [
    "<h1>INF1036 - Probabilidade Computacional</h1>"
   ]
  },
  {
   "cell_type": "markdown",
   "metadata": {},
   "source": [
    "<h2>Alunos: João Pedro Guimarães Soares e Mark Ribeiro<br>Matrículas: 1721122 e 1612043</h2>"
   ]
  },
  {
   "cell_type": "markdown",
   "metadata": {},
   "source": [
    "<h3>Imports:</h3>"
   ]
  },
  {
   "cell_type": "code",
   "execution_count": 9,
   "metadata": {},
   "outputs": [],
   "source": [
    "import numpy as np\n",
    "import matplotlib.pyplot as plt\n",
    "import math\n",
    "import scipy.stats\n",
    "\n",
    "%matplotlib inline"
   ]
  },
  {
   "cell_type": "code",
   "execution_count": 10,
   "metadata": {},
   "outputs": [
    {
     "name": "stdout",
     "output_type": "stream",
     "text": [
      "27.59463801982184\n",
      "[0.011849391515693223, 0.12346417814628166, 0.33067239662788084, 0.4739080017688364, 0.7575115672451007, 0.8485549815256592, 1.074520771689855, 1.4725749570653752, 1.4830250949912627, 2.167727029886196, 2.234076926488545, 2.246721144902519, 2.30090561351749, 2.369215831872785, 2.6014592791643385, 2.63635143182488, 2.6815758597360135, 2.912598033245633, 2.956032767872469, 3.304827620595798, 3.437533615719188, 3.454164387145858, 4.146287092162317, 4.215467822694937, 4.445677780201695, 4.453255659396746, 4.537389016705637, 4.624369927540748, 4.643316589915809, 4.683363998468259, 4.904880686411612, 4.947320936240569, 5.001743637563799, 5.031281450924643, 5.079880745628696, 5.086227811555712, 5.151014969655436, 5.16846211399046, 5.251481180018394, 5.283926306358477, 5.3046728916313075, 5.406175709583587, 5.415616401102744, 5.427452069553989, 5.542225000648772, 5.824273638658002, 5.997439210295318] 47\n",
      "[0.8570495037329904, 1.3879785354274203, 1.529448672262017, 3.6714774679738746, 4.2088012785206175, 6.459910633663697] 6\n",
      "[0.16965926806202405, 0.42466390691416295, 0.49639042380249065, 0.7588258506183094, 0.8666950283803216, 1.5001396492702344, 2.240466099834638, 2.3092787756490707, 2.419894172559173, 2.556395913407927, 2.7309460623446364, 2.7542091075223416, 2.759716400154277, 3.0019188751482573, 3.056823807823224, 3.345710693258768, 3.54497471328601, 3.8073903515391008, 4.674836674084553, 4.699856601304903, 4.738651014341362, 4.761008605969066, 4.787100292257831, 4.78845783266102, 4.909612760986482, 4.958028112173838, 5.021616301425421, 5.053955223769252, 5.086930687205176, 5.2454201291638975, 5.275102692378184, 5.3258489927669945, 5.370032278621867, 5.429204931804484, 5.457610098794924, 5.595257590268074, 5.660259811409541, 5.664993908382798, 5.713209452783987, 5.831377407921608, 6.303855903962949] 41\n"
     ]
    }
   ],
   "source": [
    "def rExponencial(nsamples,rate):\n",
    "    x = np.zeros(nsamples)\n",
    "    u = np.random.sample(nsamples)\n",
    "    for i in range(nsamples):\n",
    "        x[i] = - math.log(u[i])/rate\n",
    "    return x\n",
    "\n",
    "def rate(t):\n",
    "    if (t < 1.0):\n",
    "        return 10.0\n",
    "    elif (t < 2.0):\n",
    "        return 5.0\n",
    "    elif (t < 3.0):\n",
    "        return 10.0\n",
    "    elif (t < 4.0):\n",
    "        return 2.0\n",
    "    elif (t < 5.0):\n",
    "        return 5.0\n",
    "    else:\n",
    "        return 10.0\n",
    "        \n",
    "def rNextArrival(t,rate,ratemax):\n",
    "    while (1):\n",
    "        Z = rExponencial(1,ratemax)[0]\n",
    "        t = t + Z\n",
    "        U = np.random.sample(1)\n",
    "        if (U < rate(t)/ratemax):\n",
    "            return t\n",
    "\n",
    "def rParallelQueue(rate,ratemax,rateD1,rateD2,T):\n",
    "    t  = 0.0\n",
    "    ta = rNextArrival (t,rate,ratemax)\n",
    "    td1 = 1.0e+30\n",
    "    td2 = 1.0e+30\n",
    "    TA = []\n",
    "    TD1 = []\n",
    "    TD2 = []\n",
    "    n  = 0\n",
    "    while(1):\n",
    "        if ((ta<=min(td1,td2))and(ta<T)):\n",
    "            t = ta\n",
    "            TA.append(t)\n",
    "            n = n+1\n",
    "            if (n == 1):\n",
    "                td1 = t + rExponencial(1,rateD1)[0]\n",
    "            elif (n == 2):\n",
    "                if (td1 == 1.0e+30):\n",
    "                    td1 = t + rExponencial(1,rateD1)[0]\n",
    "                else:\n",
    "                    td2 = t + rExponencial(1,rateD2)[0]\n",
    "            ta = rNextArrival (t,rate,ratemax)\n",
    "        elif ((td1<ta)and(td1<=td2)and(td1<T)):\n",
    "            t = td1\n",
    "            TD1.append(t)\n",
    "            n = n-1\n",
    "            if (n == 0):\n",
    "                td1 = 1.0e+30\n",
    "            elif ((n==1)and(td2<1.0e+30)):\n",
    "                td1 = 1.0e+30\n",
    "            else:\n",
    "                td1 = t + rExponencial(1,rateD1)[0]\n",
    "        elif ((td2<ta)and(td2<=td1)and(td2<T)):\n",
    "            t = td2\n",
    "            TD2.append(t)\n",
    "            n = n-1\n",
    "            if (n == 0):\n",
    "                td2 = 1.0e+30\n",
    "            elif ((n==1)and(td1<1.0e+30)):\n",
    "                td2 = 1.0e+30\n",
    "            else:\n",
    "                td2 = t + rExponencial(1,rateD2)[0]\n",
    "        elif ((min(ta,min(td1,td2))>T)and(n>0)):\n",
    "            while(n>0):\n",
    "                if (td1 < td2):\n",
    "                    t = td1\n",
    "                    TD1.append(td1)\n",
    "                    n = n-1\n",
    "                    if (n > 1):\n",
    "                        td1 = t + rExponencial(1,rateD1)[0]\n",
    "                    elif ((n==1)and(td2<1.0e+30)):\n",
    "                        td1 = 1.0e+30\n",
    "                else:\n",
    "                    t = td2\n",
    "                    TD2.append(td2)\n",
    "                    n = n-1\n",
    "                    if (n > 1):\n",
    "                        td2 = t + rExponencial(1,rateD2)[0]\n",
    "                    elif ((n==1)and(td1<1.0e+30)):\n",
    "                        td2 = 1.0e+30\n",
    "\n",
    "        else:\n",
    "            return (max(t-T,0.0)),TA,TD1,TD2\n",
    "\n",
    "t,TA,TD1,TD2 = rParallelQueue(rate,10.0,1.0,15.0,6.0)\n",
    "print(t*60.0)\n",
    "print(TA,len(TA))\n",
    "print(TD1,len(TD1))\n",
    "print(TD2,len(TD2))"
   ]
  },
  {
   "cell_type": "code",
   "execution_count": 13,
   "metadata": {},
   "outputs": [
    {
     "name": "stdout",
     "output_type": "stream",
     "text": [
      "9.663641552767386\n",
      "120.47210155033473\n",
      "7405\n",
      "0.249993549450364\n",
      "Com 95.0% de confiança, a média está aproximadamente no intervalo [9.413648003317022,9.91363510221775]\n"
     ]
    },
    {
     "data": {
      "image/png": "[encoded data removed]",
      "text/plain": [
       "<Figure size 432x288 with 1 Axes>"
      ]
     },
     "metadata": {
      "needs_background": "light"
     },
     "output_type": "display_data"
    },
    {
     "data": {
      "image/png": "[encoded data removed]",
      "text/plain": [
       "<Figure size 432x288 with 1 Axes>"
      ]
     },
     "metadata": {
      "needs_background": "light"
     },
     "output_type": "display_data"
    }
   ],
   "source": [
    "def rSeQ(tol,alpha,rate,ratemax,rateD1,rateD2,T):\n",
    "    x = []\n",
    "    for i in range(100):\n",
    "        t,TA1,TD1,TD2 = rParallelQueue(rate,ratemax,rateD1,rateD2,T)\n",
    "        x.append(t*60.0)\n",
    "    n = 100\n",
    "    mx = np.mean(x)\n",
    "    s2x = np.var(x)\n",
    "    zalphaby2 = scipy.stats.norm.ppf(1.0-alpha/2.0)\n",
    "    while(2.0*zalphaby2*math.sqrt(s2x/float(n))>=tol):\n",
    "        t,TA1,TD1,TD2 = rParallelQueue(rate,ratemax,rateD1,rateD2,T)\n",
    "        nx = t*60.0\n",
    "        x.append(nx)\n",
    "        nmx = mx + (nx-mx)/float(float(n)+1)\n",
    "        ns2x = (1.-1./float(n))*s2x+(float(n)+1.)*((nmx-mx)**2)\n",
    "        n = n+1\n",
    "        mx = nmx\n",
    "        s2x = ns2x\n",
    "        #print(s2x/n)\n",
    "    return x,mx,s2x,n\n",
    "\n",
    "alpha = 0.05\n",
    "tol = 0.5\n",
    "x,mx,s2x,n = rSeQ(tol,alpha,rate,10.0,8.0,8.0,6.0)\n",
    "print(mx)\n",
    "print(s2x)\n",
    "print(n)\n",
    "\n",
    "print(scipy.stats.norm.ppf(1.0-alpha/2.0)*math.sqrt(s2x/n))\n",
    "\n",
    "print('Com '+str(100*(1.0-alpha))+'% de confiança, a média está aproximadamente no intervalo ['+str(mx-scipy.stats.norm.ppf(1.0-alpha/2.0)*math.sqrt(s2x/float(n)))+','+str(mx+scipy.stats.norm.ppf(1.0-alpha/2.0)*math.sqrt(s2x/float(n)))+']')\n",
    "\n",
    "\n",
    "plt.hist(x,100,facecolor='green', alpha=0.5)\n",
    "plt.show()\n",
    "plt.hist(x,100,cumulative=True,facecolor='green', alpha=0.5)\n",
    "plt.show()"
   ]
  },
  {
   "cell_type": "code",
   "execution_count": null,
   "metadata": {},
   "outputs": [],
   "source": []
  }
 ],
 "metadata": {
  "kernelspec": {
   "display_name": "Python 3",
   "language": "python",
   "name": "python3"
  },
  "language_info": {
   "codemirror_mode": {
    "name": "ipython",
    "version": 3
   },
   "file_extension": ".py",
   "mimetype": "text/x-python",
   "name": "python",
   "nbconvert_exporter": "python",
   "pygments_lexer": "ipython3",
   "version": "3.8.5"
  }
 },
 "nbformat": 4,
 "nbformat_minor": 4
}
