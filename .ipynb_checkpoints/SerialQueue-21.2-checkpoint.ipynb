{
 "cells": [
  {
   "cell_type": "code",
   "execution_count": 2,
   "metadata": {},
   "outputs": [
    {
     "name": "stdout",
     "output_type": "stream",
     "text": [
      "1526.0754388066503\n",
      "[0.19555324509693112, 0.22567782980445292, 0.3467299320724062, 0.3857933975646638, 0.4044953392206003, 0.4169143573494201, 0.5940183730442176, 0.682317495261825, 0.8773910054925929, 1.3846718374776892, 2.1137174021201917, 2.2480646262969772, 2.343453058752766, 2.375104959633327, 2.626221465257992, 2.6564786848682913, 2.745286309891855, 2.824076153593143, 2.962229674303776, 3.0297361547735595, 3.2255569749154747, 3.2560125497109653, 3.832749173108101, 4.4306284298397545, 4.4307806137428, 4.447335469324247, 4.705000279753012, 4.815527034295739, 4.913549203765883, 4.962207556399418, 5.0273704842414855, 5.081307373451076, 5.203541703936548, 5.240139210480638, 5.251252789452788, 5.296426094826351, 5.421724248669874, 5.4925342527160135, 5.600417151547717, 5.606890884554163, 5.670170854732838, 5.715503530793168, 5.780904582604335] 43\n",
      "[0.2908924282011552, 0.43760765763576825, 1.3410826905056668, 1.404654502039302, 2.224608182606201, 2.248409195361365, 2.6579456190280197, 4.473732655797184, 4.979526198940029, 5.25750213626507, 5.309924941121464, 5.917609934960144, 6.226542673741968, 6.597746206883246, 6.96554365837958, 7.848292756538852, 8.152883259110157, 8.332025670560336, 9.759354598394689, 10.453429943782192, 12.018240995791901, 12.143415342539404, 12.412442959035038, 12.73841640773347, 13.666857076343172, 14.908971056803114, 15.341807285505674, 15.798247390815535, 17.335931021804466, 17.797071865697617, 17.94991228189434, 22.423652622338366, 24.987325342909156, 25.32737587114485, 25.629813618513094, 25.639594955712173, 25.954598299609987, 26.13630490926838, 27.734930660462275, 30.13596024619584, 30.744046222620344, 31.371196612217904, 31.425399269394735] 43\n",
      "[0.7301560788956567, 0.811253015356605, 1.3680540219760504, 1.573676762197008, 2.2698480726212322, 2.305772638145358, 2.720897487048166, 4.579808144269592, 4.988724680403363, 5.267821404594984, 5.314242013149574, 6.016470259942378, 6.333065536486015, 6.602195317200811, 6.97598870273425, 7.942659052886405, 8.182954531542347, 8.383536850145612, 9.8926065842609, 10.55095866196097, 12.160230442723, 12.198253160721455, 12.452945306240288, 12.79216036159153, 13.68074661302117, 14.957671853296482, 15.46693013759135, 15.83177864006448, 17.505528220131467, 17.83050425960489, 17.983898045093945, 22.42857118251283, 25.034955355942305, 25.331361611372813, 25.672744975258436, 25.748415827291435, 26.000906247371574, 26.17842700838894, 27.848039627747, 30.13933857534601, 30.766644537006286, 31.37134429078058, 31.434590646777504] 43\n"
     ]
    }
   ],
   "source": [
    "import numpy as np\n",
    "import matplotlib.pyplot as plt\n",
    "import math\n",
    "\n",
    "%matplotlib inline\n",
    "\n",
    "def rExponencial(nsamples,rate):\n",
    "    x = np.zeros(nsamples)\n",
    "    u = np.random.sample(nsamples)\n",
    "    for i in range(nsamples):\n",
    "        x[i] = - math.log(u[i])/rate\n",
    "    return x\n",
    "\n",
    "def rate(t):\n",
    "    if (t < 1.0):\n",
    "        return 10.0\n",
    "    elif (t < 2.0):\n",
    "        return 5.0\n",
    "    elif (t < 3.0):\n",
    "        return 10.0\n",
    "    elif (t < 4.0):\n",
    "        return 2.0\n",
    "    elif (t < 5.0):\n",
    "        return 5.0\n",
    "    else:\n",
    "        return 10.0\n",
    "        \n",
    "def rNextArrival(t,rate,ratemax):\n",
    "    while (1):\n",
    "        Z = rExponencial(1,ratemax)[0]\n",
    "        t = t + Z\n",
    "        U = np.random.sample(1)\n",
    "        if (U < rate(t)/ratemax):\n",
    "            return t\n",
    "\n",
    "def rSerialQueue(rate,ratemax,rateD1,rateD2,T):\n",
    "    t  = 0.0\n",
    "    ta = rNextArrival (t,rate,ratemax)\n",
    "    td1 = 1.0e+30\n",
    "    td2 = 1.0e+30\n",
    "    TA = []\n",
    "    TD1 = []\n",
    "    TD2 = []\n",
    "    n1  = 0\n",
    "    n2  = 0\n",
    "    while(1):\n",
    "        if ((ta<=min(td1,td2))and(ta<T)):\n",
    "            t = ta\n",
    "            TA.append(t)\n",
    "            n1 = n1+1\n",
    "            if (n1 == 1):\n",
    "                td1 = t + rExponencial(1,rateD1)[0]\n",
    "            ta = rNextArrival (t,rate,ratemax)\n",
    "        elif ((td1<ta)and(td1<=td2)and(td1<T)):\n",
    "            t = td1\n",
    "            TD1.append(t)\n",
    "            n1 = n1-1\n",
    "            n2 = n2+1\n",
    "            if (n1 == 0):\n",
    "                td1 = 1.0e+30\n",
    "            else:\n",
    "                td1 = t + rExponencial(1,rateD1)[0]\n",
    "            if (n2 == 1):\n",
    "                td2 = t + rExponencial(1,rateD2)[0]\n",
    "        elif ((td2<ta)and(td2<=td1)and(td2<T)):\n",
    "            t = td2\n",
    "            TD2.append(t)\n",
    "            n2 = n2-1\n",
    "            if (n2 == 0):\n",
    "                td2 = 1.0e+30\n",
    "            else:\n",
    "                td2 = t + rExponencial(1,rateD2)[0]\n",
    "        elif ((min(ta,min(td1,td2))>T)and((n1+n2)>0)):\n",
    "            while((n1+n2)>0):\n",
    "                if (td1 < td2):\n",
    "                    t = td1\n",
    "                    TD1.append(t)\n",
    "                    n1 = n1-1\n",
    "                    n2 = n2+1\n",
    "                    if (n1 == 0):\n",
    "                        td1 = 1.0e+30\n",
    "                    else:\n",
    "                        td1 = t + rExponencial(1,rateD1)[0]\n",
    "                    if (n2 == 1):\n",
    "                        td2 = t + rExponencial(1,rateD2)[0]\n",
    "                else:\n",
    "                    t = td2\n",
    "                    TD2.append(td2)\n",
    "                    n2 = n2-1\n",
    "                    if (n2 == 0):\n",
    "                        td2 = 1.0e+30\n",
    "                    else:\n",
    "                        td2 = t + rExponencial(1,rateD2)[0]\n",
    "        else:\n",
    "            return (max(t-T,0.0)),TA,TD1,TD2\n",
    "\n",
    "t,TA,TD1,TD2 = rSerialQueue(rate,10.0,1.0,15.0,6.0)\n",
    "print(t*60.0)\n",
    "print(TA,len(TA))\n",
    "print(TD1,len(TD1))\n",
    "print(TD2,len(TD2))"
   ]
  },
  {
   "cell_type": "code",
   "execution_count": 3,
   "metadata": {},
   "outputs": [
    {
     "name": "stdout",
     "output_type": "stream",
     "text": [
      "2175.4435369989833\n",
      "298379.8949799868\n"
     ]
    },
    {
     "data": {
      "image/png": "[encoded data removed]",
      "text/plain": [
       "<Figure size 432x288 with 1 Axes>"
      ]
     },
     "metadata": {
      "needs_background": "light"
     },
     "output_type": "display_data"
    },
    {
     "data": {
      "image/png": "[encoded data removed]",
      "text/plain": [
       "<Figure size 432x288 with 1 Axes>"
      ]
     },
     "metadata": {
      "needs_background": "light"
     },
     "output_type": "display_data"
    }
   ],
   "source": [
    "import numpy as np\n",
    "import matplotlib.pyplot as plt\n",
    "import math\n",
    "\n",
    "%matplotlib inline\n",
    "\n",
    "def rSeQ(nsamples,rate,ratemax,rateD1,rateD2,T):\n",
    "    x = np.zeros(nsamples)\n",
    "    for i in range(nsamples):\n",
    "        t,TA1,TD1,TD2 = rSerialQueue(rate,ratemax,rateD1,rateD2,T)\n",
    "        x[i] = t*60.0\n",
    "    return x\n",
    "\n",
    "x = rSeQ(10000,rate,10.0,8.0,1.0,6.0)\n",
    "print(np.mean(x))\n",
    "print(np.var(x))\n",
    "plt.hist(x,100,facecolor='green', alpha=0.5)\n",
    "plt.show()\n",
    "plt.hist(x,100,cumulative=True,facecolor='green', alpha=0.5)\n",
    "plt.show()"
   ]
  },
  {
   "cell_type": "code",
   "execution_count": 7,
   "metadata": {},
   "outputs": [
    {
     "name": "stdout",
     "output_type": "stream",
     "text": [
      "72.00688239562565\n",
      "1907.8050696223568\n",
      "7632\n"
     ]
    },
    {
     "data": {
      "image/png": "[encoded data removed]",
      "text/plain": [
       "<Figure size 432x288 with 1 Axes>"
      ]
     },
     "metadata": {
      "needs_background": "light"
     },
     "output_type": "display_data"
    },
    {
     "data": {
      "image/png": "[encoded data removed]",
      "text/plain": [
       "<Figure size 432x288 with 1 Axes>"
      ]
     },
     "metadata": {
      "needs_background": "light"
     },
     "output_type": "display_data"
    }
   ],
   "source": [
    "import numpy as np\n",
    "import matplotlib.pyplot as plt\n",
    "import math\n",
    "\n",
    "%matplotlib inline\n",
    "\n",
    "def rSeQ(tol,rate,ratemax,rateD1,rateD2,T):\n",
    "    x = []\n",
    "    for i in range(100):\n",
    "        t,TA1,TD1,TD2 = rSerialQueue(rate,ratemax,rateD1,rateD2,T)\n",
    "        x.append(t*60.0)\n",
    "    n = 100\n",
    "    mx = np.mean(x)\n",
    "    s2x = np.var(x)\n",
    "    while(s2x>float(n)*tol**2):\n",
    "        t,TA1,TD1,TD2 = rSerialQueue(rate,ratemax,rateD1,rateD2,T)\n",
    "        nx = t*60.0\n",
    "        x.append(nx)\n",
    "        nmx = mx + (nx-mx)/float(float(n)+1)\n",
    "        ns2x = (1.-1./float(n))*s2x+(float(n)+1.)*((nmx-mx)**2)\n",
    "        n = n+1\n",
    "        mx = nmx\n",
    "        s2x = ns2x\n",
    "        #print(s2x/n)\n",
    "    return x,n\n",
    "\n",
    "x,n = rSeQ(0.5,rate,10.0,8.0,8.0,6.0)\n",
    "print(np.mean(x))\n",
    "print(np.var(x))\n",
    "print(n)\n",
    "plt.hist(x,100,facecolor='green', alpha=0.5)\n",
    "plt.show()\n",
    "plt.hist(x,100,cumulative=True,facecolor='green', alpha=0.5)\n",
    "plt.show()"
   ]
  },
  {
   "cell_type": "code",
   "execution_count": 12,
   "metadata": {},
   "outputs": [
    {
     "name": "stdout",
     "output_type": "stream",
     "text": [
      "2.5758293035489004\n"
     ]
    }
   ],
   "source": [
    "import scipy.stats\n",
    "alpha = 0.01\n",
    "print(scipy.stats.norm.ppf(1.0-alpha/2.0))"
   ]
  },
  {
   "cell_type": "code",
   "execution_count": 17,
   "metadata": {},
   "outputs": [
    {
     "name": "stdout",
     "output_type": "stream",
     "text": [
      "71.49684572356108\n",
      "1920.0024287163808\n",
      "118010\n",
      "0.24999975028454072\n",
      "Com 95.0% de confiança, a média está aproximadamente no intervalo [71.24684597327654,71.74684547384562]\n"
     ]
    },
    {
     "data": {
      "image/png": "[encoded data removed]",
      "text/plain": [
       "<Figure size 432x288 with 1 Axes>"
      ]
     },
     "metadata": {
      "needs_background": "light"
     },
     "output_type": "display_data"
    },
    {
     "data": {
      "image/png": "[encoded data removed]",
      "text/plain": [
       "<Figure size 432x288 with 1 Axes>"
      ]
     },
     "metadata": {
      "needs_background": "light"
     },
     "output_type": "display_data"
    }
   ],
   "source": [
    "import numpy as np\n",
    "import matplotlib.pyplot as plt\n",
    "import math\n",
    "import scipy.stats\n",
    "\n",
    "%matplotlib inline\n",
    "\n",
    "def rSeQ(tol,alpha,rate,ratemax,rateD1,rateD2,T):\n",
    "    x = []\n",
    "    for i in range(100):\n",
    "        t,TA1,TD1,TD2 = rSerialQueue(rate,ratemax,rateD1,rateD2,T)\n",
    "        x.append(t*60.0)\n",
    "    n = 100\n",
    "    mx = np.mean(x)\n",
    "    s2x = np.var(x)\n",
    "    zalphaby2 = scipy.stats.norm.ppf(1.0-alpha/2.0)\n",
    "    while(2.0*zalphaby2*math.sqrt(s2x/float(n))>=tol):\n",
    "        t,TA1,TD1,TD2 = rSerialQueue(rate,ratemax,rateD1,rateD2,T)\n",
    "        nx = t*60.0\n",
    "        x.append(nx)\n",
    "        nmx = mx + (nx-mx)/float(float(n)+1)\n",
    "        ns2x = (1.-1./float(n))*s2x+(float(n)+1.)*((nmx-mx)**2)\n",
    "        n = n+1\n",
    "        mx = nmx\n",
    "        s2x = ns2x\n",
    "        #print(s2x/n)\n",
    "    return x,mx,s2x,n\n",
    "\n",
    "alpha = 0.05\n",
    "tol = 0.5\n",
    "x,mx,s2x,n = rSeQ(tol,alpha,rate,10.0,8.0,8.0,6.0)\n",
    "print(mx)\n",
    "print(s2x)\n",
    "print(n)\n",
    "\n",
    "print(scipy.stats.norm.ppf(1.0-alpha/2.0)*math.sqrt(s2x/n))\n",
    "\n",
    "print('Com '+str(100*(1.0-alpha))+'% de confiança, a média está aproximadamente no intervalo ['+str(mx-scipy.stats.norm.ppf(1.0-alpha/2.0)*math.sqrt(s2x/float(n)))+','+str(mx+scipy.stats.norm.ppf(1.0-alpha/2.0)*math.sqrt(s2x/float(n)))+']')\n",
    "\n",
    "\n",
    "plt.hist(x,100,facecolor='green', alpha=0.5)\n",
    "plt.show()\n",
    "plt.hist(x,100,cumulative=True,facecolor='green', alpha=0.5)\n",
    "plt.show()"
   ]
  },
  {
   "cell_type": "code",
   "execution_count": null,
   "metadata": {},
   "outputs": [],
   "source": []
  }
 ],
 "metadata": {
  "kernelspec": {
   "display_name": "Python 3",
   "language": "python",
   "name": "python3"
  },
  "language_info": {
   "codemirror_mode": {
    "name": "ipython",
    "version": 3
   },
   "file_extension": ".py",
   "mimetype": "text/x-python",
   "name": "python",
   "nbconvert_exporter": "python",
   "pygments_lexer": "ipython3",
   "version": "3.8.5"
  }
 },
 "nbformat": 4,
 "nbformat_minor": 2
}
