{
 "cells": [
  {
   "cell_type": "code",
   "execution_count": 1,
   "metadata": {},
   "outputs": [
    {
     "name": "stdout",
     "output_type": "stream",
     "text": [
      "27.560124743214374\n",
      "[0.08598448747330315, 0.18408404259551997, 0.30873922855575286, 0.37332497163921735, 0.4964571760669097, 0.7201856971655993, 0.723935789837611, 0.7303516941500051, 0.7792706730040154, 0.80708090171807, 0.8421049589822591, 0.9117134613404683, 0.9251588038303613, 0.9605890177392429, 1.0409675593729695, 1.4223517173960738, 1.70584395352879, 1.712468890555892, 2.1033506962782935, 2.349400880486048, 2.459168516151751, 2.7997611272407292, 3.108632655326356, 3.378762107182717, 3.588746933761865, 3.7376070566046122, 4.043900733169976, 4.277021718558168, 4.782952356382214, 5.032013211561834, 5.112927947598104, 5.124732813037362, 5.1291549105717, 5.222008574469285, 5.720610558766577, 5.971356711454742] 36\n",
      "[2.0008914409931577, 2.350465114168881, 2.527670705681421, 5.03189087962572, 6.459335412386906] 5\n",
      "[0.1935253439423847, 0.3145962237787203, 0.49824315406821323, 0.5378856776592481, 0.7267899146984267, 0.8303875104480872, 1.0379676444233827, 1.2098193219659699, 1.2721206070727333, 1.4411753470371218, 1.642798089724897, 1.6483079513891974, 1.6663795256595313, 1.673207448382422, 1.7477330226190075, 1.8744658930666795, 1.9328845727278638, 2.408881844841212, 3.1856157056433796, 3.4263190677084756, 3.6305893960758877, 3.7516775458463054, 4.186096965524338, 4.30940384256532, 4.832209618658694, 5.115761485813402, 5.241566333852795, 5.3463180814732985, 5.36514205790882, 5.738588655928619, 6.022829014640805] 31\n"
     ]
    }
   ],
   "source": [
    "import numpy as np\n",
    "import matplotlib.pyplot as plt\n",
    "import math\n",
    "\n",
    "%matplotlib inline\n",
    "\n",
    "def rExponencial(nsamples,rate):\n",
    "    x = np.zeros(nsamples)\n",
    "    u = np.random.sample(nsamples)\n",
    "    for i in range(nsamples):\n",
    "        x[i] = - math.log(u[i])/rate\n",
    "    return x\n",
    "\n",
    "def rate(t):\n",
    "    if (t < 1.0):\n",
    "        return 10.0\n",
    "    elif (t < 2.0):\n",
    "        return 5.0\n",
    "    elif (t < 3.0):\n",
    "        return 10.0\n",
    "    elif (t < 4.0):\n",
    "        return 2.0\n",
    "    elif (t < 5.0):\n",
    "        return 5.0\n",
    "    else:\n",
    "        return 10.0\n",
    "        \n",
    "def rNextArrival(t,rate,ratemax):\n",
    "    while (1):\n",
    "        Z = rExponencial(1,ratemax)[0]\n",
    "        t = t + Z\n",
    "        U = np.random.sample(1)\n",
    "        if (U < rate(t)/ratemax):\n",
    "            return t\n",
    "\n",
    "def rParallelQueue(rate,ratemax,rateD1,rateD2,T):\n",
    "    t  = 0.0\n",
    "    ta = rNextArrival (t,rate,ratemax)\n",
    "    td1 = 1.0e+30\n",
    "    td2 = 1.0e+30\n",
    "    TA = []\n",
    "    TD1 = []\n",
    "    TD2 = []\n",
    "    n  = 0\n",
    "    while(1):\n",
    "        if ((ta<=min(td1,td2))and(ta<T)):\n",
    "            t = ta\n",
    "            TA.append(t)\n",
    "            n = n+1\n",
    "            if (n == 1):\n",
    "                td1 = t + rExponencial(1,rateD1)[0]\n",
    "            elif (n == 2):\n",
    "                if (td1 == 1.0e+30):\n",
    "                    td1 = t + rExponencial(1,rateD1)[0]\n",
    "                else:\n",
    "                    td2 = t + rExponencial(1,rateD2)[0]\n",
    "            ta = rNextArrival (t,rate,ratemax)\n",
    "        elif ((td1<ta)and(td1<=td2)and(td1<T)):\n",
    "            t = td1\n",
    "            TD1.append(t)\n",
    "            n = n-1\n",
    "            if (n == 0):\n",
    "                td1 = 1.0e+30\n",
    "            elif ((n==1)and(td2<1.0e+30)):\n",
    "                td1 = 1.0e+30\n",
    "            else:\n",
    "                td1 = t + rExponencial(1,rateD1)[0]\n",
    "        elif ((td2<ta)and(td2<=td1)and(td2<T)):\n",
    "            t = td2\n",
    "            TD2.append(t)\n",
    "            n = n-1\n",
    "            if (n == 0):\n",
    "                td2 = 1.0e+30\n",
    "            elif ((n==1)and(td1<1.0e+30)):\n",
    "                td2 = 1.0e+30\n",
    "            else:\n",
    "                td2 = t + rExponencial(1,rateD2)[0]\n",
    "        elif ((min(ta,min(td1,td2))>T)and(n>0)):\n",
    "            while(n>0):\n",
    "                if (td1 < td2):\n",
    "                    t = td1\n",
    "                    TD1.append(td1)\n",
    "                    n = n-1\n",
    "                    if (n > 1):\n",
    "                        td1 = t + rExponencial(1,rateD1)[0]\n",
    "                    elif ((n==1)and(td2<1.0e+30)):\n",
    "                        td1 = 1.0e+30\n",
    "                else:\n",
    "                    t = td2\n",
    "                    TD2.append(td2)\n",
    "                    n = n-1\n",
    "                    if (n > 1):\n",
    "                        td2 = t + rExponencial(1,rateD2)[0]\n",
    "                    elif ((n==1)and(td1<1.0e+30)):\n",
    "                        td2 = 1.0e+30\n",
    "\n",
    "        else:\n",
    "            return (max(t-T,0.0)),TA,TD1,TD2\n",
    "\n",
    "t,TA,TD1,TD2 = rParallelQueue(rate,10.0,1.0,15.0,6.0)\n",
    "print(t*60.0)\n",
    "print(TA,len(TA))\n",
    "print(TD1,len(TD1))\n",
    "print(TD2,len(TD2))"
   ]
  },
  {
   "cell_type": "code",
   "execution_count": 17,
   "metadata": {},
   "outputs": [
    {
     "name": "stdout",
     "output_type": "stream",
     "text": [
      "77.10500322316419\n",
      "0.6582317422584937\n"
     ]
    },
    {
     "data": {
      "image/png": "[encoded data removed]",
      "text/plain": [
       "<Figure size 432x288 with 1 Axes>"
      ]
     },
     "metadata": {
      "needs_background": "light"
     },
     "output_type": "display_data"
    },
    {
     "data": {
      "image/png": "[encoded data removed]",
      "text/plain": [
       "<Figure size 432x288 with 1 Axes>"
      ]
     },
     "metadata": {
      "needs_background": "light"
     },
     "output_type": "display_data"
    }
   ],
   "source": [
    "import numpy as np\n",
    "import matplotlib.pyplot as plt\n",
    "import math\n",
    "\n",
    "%matplotlib inline\n",
    "\n",
    "def rPQ(nsamples,rate,ratemax,rateD1,rateD2,T):\n",
    "    x = np.zeros(nsamples)\n",
    "    for i in range(nsamples):\n",
    "        t,TA,TD1,TD2 = rParallelQueue(rate,ratemax,rateD1,rateD2,T)\n",
    "        x[i] = t*60.0\n",
    "    return x\n",
    "n = 10000\n",
    "x = rPQ(n,rate,10.0,8.0,1.0,6.0)\n",
    "print(np.mean(x))\n",
    "print(np.std(x)/math.sqrt(n))\n",
    "plt.hist(x,100,facecolor='green', alpha=0.5)\n",
    "plt.show()\n",
    "plt.hist(x,100,cumulative=True,facecolor='green', alpha=0.5)\n",
    "plt.show()"
   ]
  },
  {
   "cell_type": "code",
   "execution_count": null,
   "metadata": {},
   "outputs": [],
   "source": []
  }
 ],
 "metadata": {
  "kernelspec": {
   "display_name": "Python 3",
   "language": "python",
   "name": "python3"
  },
  "language_info": {
   "codemirror_mode": {
    "name": "ipython",
    "version": 3
   },
   "file_extension": ".py",
   "mimetype": "text/x-python",
   "name": "python",
   "nbconvert_exporter": "python",
   "pygments_lexer": "ipython3",
   "version": "3.8.5"
  }
 },
 "nbformat": 4,
 "nbformat_minor": 2
}
